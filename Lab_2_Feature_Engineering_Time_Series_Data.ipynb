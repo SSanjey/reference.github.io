{
  "nbformat": 4,
  "nbformat_minor": 0,
  "metadata": {
    "colab": {
      "provenance": [],
      "authorship_tag": "ABX9TyO1abPrM2MsClt1RPNkCWrO",
      "include_colab_link": true
    },
    "kernelspec": {
      "name": "python3",
      "display_name": "Python 3"
    },
    "language_info": {
      "name": "python"
    }
  },
  "cells": [
    {
      "cell_type": "markdown",
      "metadata": {
        "id": "view-in-github",
        "colab_type": "text"
      },
      "source": [
        "<a href=\"https://colab.research.google.com/github/SSanjey/ssanjey.github.io/blob/main/Lab_2_Feature_Engineering_Time_Series_Data.ipynb\" target=\"_parent\"><img src=\"https://colab.research.google.com/assets/colab-badge.svg\" alt=\"Open In Colab\"/></a>"
      ]
    },
    {
      "cell_type": "code",
      "execution_count": 1,
      "metadata": {
        "id": "rZnksaJykFFB",
        "colab": {
          "base_uri": "https://localhost:8080/"
        },
        "outputId": "8581edb8-1558-465a-96e1-50655359f6eb"
      },
      "outputs": [
        {
          "output_type": "stream",
          "name": "stdout",
          "text": [
            "   month  day  temperature\n",
            "0      1    1         20.7\n",
            "1      1    2         17.9\n",
            "2      1    3         18.8\n",
            "3      1    4         14.6\n",
            "4      1    5         15.8\n"
          ]
        },
        {
          "output_type": "stream",
          "name": "stderr",
          "text": [
            "<ipython-input-1-da63805229a8>:3: FutureWarning: The squeeze argument has been deprecated and will be removed in a future version. Append .squeeze(\"columns\") to the call to squeeze.\n",
            "\n",
            "\n",
            "  series = read_csv('/content/daily-min-temperatures.csv', header=0, index_col=0, parse_dates=True, squeeze=True)\n"
          ]
        }
      ],
      "source": [
        "from pandas import read_csv\n",
        "from pandas import DataFrame\n",
        "series = read_csv('/content/daily-min-temperatures.csv', header=0, index_col=0, parse_dates=True, squeeze=True)\n",
        "dataframe = DataFrame()\n",
        "dataframe['month'] = [series.index[i].month for i in range(len(series))]\n",
        "dataframe['day'] = [series.index[i].day for i in range(len(series))]\n",
        "dataframe['temperature'] = [series[i] for i in range(len(series))]\n",
        "print(dataframe.head(5))"
      ]
    },
    {
      "cell_type": "code",
      "source": [
        "from pandas import read_csv\n",
        "from pandas import DataFrame\n",
        "from pandas import concat\n",
        "series = read_csv('/content/daily-min-temperatures.csv',header=0, index_col=0, parse_dates=True, squeeze=True)\n",
        "temps = DataFrame(series.values)\n",
        "dataframe = concat([temps.shift(1),temps], axis=1)\n",
        "dataframe.colums = ['t', 't+1']\n",
        "print(dataframe.head(5))\n"
      ],
      "metadata": {
        "colab": {
          "base_uri": "https://localhost:8080/"
        },
        "id": "c4TuEXUma6im",
        "outputId": "4c9d0d02-6d07-4bda-b3b6-09d51122bc3b"
      },
      "execution_count": 2,
      "outputs": [
        {
          "output_type": "stream",
          "name": "stdout",
          "text": [
            "      0     0\n",
            "0   NaN  20.7\n",
            "1  20.7  17.9\n",
            "2  17.9  18.8\n",
            "3  18.8  14.6\n",
            "4  14.6  15.8\n"
          ]
        },
        {
          "output_type": "stream",
          "name": "stderr",
          "text": [
            "<ipython-input-2-3bb82a359421>:4: FutureWarning: The squeeze argument has been deprecated and will be removed in a future version. Append .squeeze(\"columns\") to the call to squeeze.\n",
            "\n",
            "\n",
            "  series = read_csv('/content/daily-min-temperatures.csv',header=0, index_col=0, parse_dates=True, squeeze=True)\n",
            "<ipython-input-2-3bb82a359421>:7: UserWarning: Pandas doesn't allow columns to be created via a new attribute name - see https://pandas.pydata.org/pandas-docs/stable/indexing.html#attribute-access\n",
            "  dataframe.colums = ['t', 't+1']\n"
          ]
        }
      ]
    },
    {
      "cell_type": "code",
      "source": [
        "from pandas import read_csv\n",
        "from pandas import DataFrame\n",
        "from pandas import concat\n",
        "series = read_csv('/content/daily-min-temperatures.csv', header=0, index_col=0, parse_dates=True, squeeze=True)\n",
        "temps = DataFrame(series.values)\n",
        "dataframe = concat([temps.shift(3), temps.shift(2), temps.shift(1), temps],axis=1)\n",
        "dataframe.columns = ['t-2', 't-1', 't', 't+1']\n",
        "print(dataframe.head(5))\n"
      ],
      "metadata": {
        "colab": {
          "base_uri": "https://localhost:8080/"
        },
        "id": "qzbPebsGcLAd",
        "outputId": "c194d714-0746-446b-f489-dffa90f5dab0"
      },
      "execution_count": 3,
      "outputs": [
        {
          "output_type": "stream",
          "name": "stdout",
          "text": [
            "    t-2   t-1     t   t+1\n",
            "0   NaN   NaN   NaN  20.7\n",
            "1   NaN   NaN  20.7  17.9\n",
            "2   NaN  20.7  17.9  18.8\n",
            "3  20.7  17.9  18.8  14.6\n",
            "4  17.9  18.8  14.6  15.8\n"
          ]
        },
        {
          "output_type": "stream",
          "name": "stderr",
          "text": [
            "<ipython-input-3-d18fe6490b88>:4: FutureWarning: The squeeze argument has been deprecated and will be removed in a future version. Append .squeeze(\"columns\") to the call to squeeze.\n",
            "\n",
            "\n",
            "  series = read_csv('/content/daily-min-temperatures.csv', header=0, index_col=0, parse_dates=True, squeeze=True)\n"
          ]
        }
      ]
    },
    {
      "cell_type": "code",
      "source": [
        "from pandas import read_csv\n",
        "from pandas import DataFrame\n",
        "from pandas import concat\n",
        "series = read_csv('/content/daily-min-temperatures.csv', header=0, index_col=0, parse_dates=True, squeeze=True)\n",
        "temps = DataFrame(series.values)\n",
        "shifted = temps.shift(1)\n",
        "window = shifted.rolling(window=2)\n",
        "means = window.mean()\n",
        "dataframe = concat([means, temps], axis=1)\n",
        "dataframe.columns = ['mean(t-1,t)', 't+1']\n",
        "print(dataframe.head(5))\n"
      ],
      "metadata": {
        "colab": {
          "base_uri": "https://localhost:8080/"
        },
        "id": "jO4g0WZYim5i",
        "outputId": "07fccd2e-3d19-4202-94b8-8edb39844c5c"
      },
      "execution_count": 4,
      "outputs": [
        {
          "output_type": "stream",
          "name": "stdout",
          "text": [
            "   mean(t-1,t)   t+1\n",
            "0          NaN  20.7\n",
            "1          NaN  17.9\n",
            "2        19.30  18.8\n",
            "3        18.35  14.6\n",
            "4        16.70  15.8\n"
          ]
        },
        {
          "output_type": "stream",
          "name": "stderr",
          "text": [
            "<ipython-input-4-9fc95eff6307>:4: FutureWarning: The squeeze argument has been deprecated and will be removed in a future version. Append .squeeze(\"columns\") to the call to squeeze.\n",
            "\n",
            "\n",
            "  series = read_csv('/content/daily-min-temperatures.csv', header=0, index_col=0, parse_dates=True, squeeze=True)\n"
          ]
        }
      ]
    },
    {
      "cell_type": "code",
      "source": [
        "from pandas import read_csv\n",
        "from pandas import DataFrame\n",
        "from pandas import concat\n",
        "series = read_csv('/content/daily-min-temperatures.csv', header=0, index_col=0, parse_dates=True, squeeze=True)\n",
        "temps = DataFrame(series.values)\n",
        "width = 3\n",
        "shifted = temps.shift(width-1)\n",
        "window = shifted.rolling(window=width)\n",
        "\n",
        "dataframe = concat([window.min(), window.mean(), window.max(), temps], axis=1)\n",
        "dataframe.columns = ['min', 'mean', 'max','t+1']\n",
        "print(dataframe.head(5))\n"
      ],
      "metadata": {
        "colab": {
          "base_uri": "https://localhost:8080/"
        },
        "id": "tAr7e1WHoBRq",
        "outputId": "2bf44ee7-cd05-4457-e51f-7bbcc0922219"
      },
      "execution_count": 5,
      "outputs": [
        {
          "output_type": "stream",
          "name": "stdout",
          "text": [
            "    min       mean   max   t+1\n",
            "0   NaN        NaN   NaN  20.7\n",
            "1   NaN        NaN   NaN  17.9\n",
            "2   NaN        NaN   NaN  18.8\n",
            "3   NaN        NaN   NaN  14.6\n",
            "4  17.9  19.133333  20.7  15.8\n"
          ]
        },
        {
          "output_type": "stream",
          "name": "stderr",
          "text": [
            "<ipython-input-5-b333a2b06faa>:4: FutureWarning: The squeeze argument has been deprecated and will be removed in a future version. Append .squeeze(\"columns\") to the call to squeeze.\n",
            "\n",
            "\n",
            "  series = read_csv('/content/daily-min-temperatures.csv', header=0, index_col=0, parse_dates=True, squeeze=True)\n"
          ]
        }
      ]
    },
    {
      "cell_type": "code",
      "source": [
        "from pandas import read_csv\n",
        "from pandas import DataFrame\n",
        "from pandas import concat\n",
        "series = read_csv('/content/daily-min-temperatures.csv', header=0, index_col=0,\n",
        "parse_dates=True, squeeze=True)\n",
        "temps = DataFrame(series.values)\n",
        "window = temps.expanding()\n",
        "dataframe = concat([window.min(), window.mean(), window.max(), temps.shift(-1)], axis=1)\n",
        "dataframe.columns = ['min', 'mean', 'max', 't+1']\n",
        "print(dataframe.head(5))\n"
      ],
      "metadata": {
        "colab": {
          "base_uri": "https://localhost:8080/"
        },
        "id": "-9xjvxX1q8Bk",
        "outputId": "436a437a-0fdb-49cc-f69e-378d0ebfe1b1"
      },
      "execution_count": 7,
      "outputs": [
        {
          "output_type": "stream",
          "name": "stdout",
          "text": [
            "    min       mean   max   t+1\n",
            "0  20.7  20.700000  20.7  17.9\n",
            "1  17.9  19.300000  20.7  18.8\n",
            "2  17.9  19.133333  20.7  14.6\n",
            "3  14.6  18.000000  20.7  15.8\n",
            "4  14.6  17.560000  20.7  15.8\n"
          ]
        },
        {
          "output_type": "stream",
          "name": "stderr",
          "text": [
            "<ipython-input-7-0025bee56e47>:4: FutureWarning: The squeeze argument has been deprecated and will be removed in a future version. Append .squeeze(\"columns\") to the call to squeeze.\n",
            "\n",
            "\n",
            "  series = read_csv('/content/daily-min-temperatures.csv', header=0, index_col=0,\n"
          ]
        }
      ]
    },
    {
      "cell_type": "code",
      "source": [],
      "metadata": {
        "id": "ZxCl4gqArSRt"
      },
      "execution_count": null,
      "outputs": []
    }
  ]
}