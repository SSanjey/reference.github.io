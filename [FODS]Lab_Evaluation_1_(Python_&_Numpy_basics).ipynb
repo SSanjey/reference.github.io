{
  "nbformat": 4,
  "nbformat_minor": 0,
  "metadata": {
    "colab": {
      "provenance": [],
      "authorship_tag": "ABX9TyPPqL7KhN7Gpgf8NbA2Xnzp",
      "include_colab_link": true
    },
    "kernelspec": {
      "name": "python3",
      "display_name": "Python 3"
    },
    "language_info": {
      "name": "python"
    }
  },
  "cells": [
    {
      "cell_type": "markdown",
      "metadata": {
        "id": "view-in-github",
        "colab_type": "text"
      },
      "source": [
        "<a href=\"https://colab.research.google.com/github/SSanjey/ssanjey.github.io/blob/main/%5BFODS%5DLab_Evaluation_1_(Python_%26_Numpy_basics).ipynb\" target=\"_parent\"><img src=\"https://colab.research.google.com/assets/colab-badge.svg\" alt=\"Open In Colab\"/></a>"
      ]
    },
    {
      "cell_type": "code",
      "execution_count": 1,
      "metadata": {
        "colab": {
          "base_uri": "https://localhost:8080/"
        },
        "id": "ihGp3-cYMAcT",
        "outputId": "55c83730-b579-4c62-b61f-d9cb77265da6"
      },
      "outputs": [
        {
          "output_type": "stream",
          "name": "stdout",
          "text": [
            "('aman', 777, '222', 400.4)\n"
          ]
        }
      ],
      "source": [
        "my_set = {\"aman\", \"222\", 777, 400.4}\n",
        "my_tuple = tuple(my_set)\n",
        "print(my_tuple)\n"
      ]
    },
    {
      "cell_type": "code",
      "source": [
        "my_dict = {\n",
        "    \"roll_no\": 12345,\n",
        "    \"last_name\": \"Sharma\",\n",
        "    \"first_name\": \"Aman\",\n",
        "    \"date_of_birth\": \"1990-01-01\"\n",
        "}\n",
        "\n",
        "print(\"The values in the dictionary are:\")\n",
        "for value in my_dict.values():\n",
        "    print(value)\n",
        "\n",
        "print(\"\\nThe keys in the dictionary are:\")\n",
        "for key in my_dict.keys():\n",
        "    print(key)\n"
      ],
      "metadata": {
        "colab": {
          "base_uri": "https://localhost:8080/"
        },
        "id": "yGVqceDzMPaw",
        "outputId": "c6b3ba5c-2b7a-47ae-cf61-b209b6619889"
      },
      "execution_count": 2,
      "outputs": [
        {
          "output_type": "stream",
          "name": "stdout",
          "text": [
            "The values in the dictionary are:\n",
            "12345\n",
            "Sharma\n",
            "Aman\n",
            "1990-01-01\n",
            "\n",
            "The keys in the dictionary are:\n",
            "roll_no\n",
            "last_name\n",
            "first_name\n",
            "date_of_birth\n"
          ]
        }
      ]
    },
    {
      "cell_type": "code",
      "source": [
        "import random\n",
        "\n",
        "seed = 12345\n",
        "array = [[random.randint(0, 100) for col in range(3)] for row in range(3)]\n",
        "print(array)\n"
      ],
      "metadata": {
        "colab": {
          "base_uri": "https://localhost:8080/"
        },
        "id": "S7xo8NbXMX8i",
        "outputId": "693be209-9abc-4577-c1c7-7e8566cd26ac"
      },
      "execution_count": 3,
      "outputs": [
        {
          "output_type": "stream",
          "name": "stdout",
          "text": [
            "[[79, 91, 87], [9, 74, 97], [83, 21, 98]]\n"
          ]
        }
      ]
    },
    {
      "cell_type": "code",
      "source": [
        "import random\n",
        "\n",
        "random_number = random.random()\n",
        "print(random_number)\n",
        "\n",
        "absolute_value = abs(-1234)\n",
        "print(absolute_value)\n"
      ],
      "metadata": {
        "colab": {
          "base_uri": "https://localhost:8080/"
        },
        "id": "dqWJ_mq3MgA_",
        "outputId": "a780c3d5-4c56-44e6-d228-66ed5f754a38"
      },
      "execution_count": 4,
      "outputs": [
        {
          "output_type": "stream",
          "name": "stdout",
          "text": [
            "0.9083577907721712\n",
            "1234\n"
          ]
        }
      ]
    },
    {
      "cell_type": "code",
      "source": [
        "import random\n",
        "\n",
        "random_integer = random.randint(20, 90)\n",
        "print(random_integer)\n"
      ],
      "metadata": {
        "colab": {
          "base_uri": "https://localhost:8080/"
        },
        "id": "llC6a2InMhv7",
        "outputId": "bb61bf7b-babe-4e40-de65-31b8bcdda113"
      },
      "execution_count": 5,
      "outputs": [
        {
          "output_type": "stream",
          "name": "stdout",
          "text": [
            "55\n"
          ]
        }
      ]
    },
    {
      "cell_type": "code",
      "source": [
        "import numpy as np\n",
        "pop = [11,12,13,14,15]\n",
        "np.random.shuffle(pop)\n",
        "print(pop)\n",
        "print(pop[random.randint(0,5)])\n",
        "temp=[pop.pop(random.randint(0,5)),pop.pop(random.randint(0,4)),pop.pop(random.randint(0,3))]\n",
        "print(temp)\n",
        ""
      ],
      "metadata": {
        "colab": {
          "base_uri": "https://localhost:8080/"
        },
        "id": "QLe1ybAbMljX",
        "outputId": "c981aa5e-21e9-4af5-b5ef-9f6725a70f2b"
      },
      "execution_count": 9,
      "outputs": [
        {
          "output_type": "stream",
          "name": "stdout",
          "text": [
            "[11, 15, 14, 13, 12]\n",
            "13\n",
            "[14, 12, 13]\n"
          ]
        }
      ]
    },
    {
      "cell_type": "code",
      "source": [
        "f = open('test.txt','w')\n",
        "f.write('The King is Dead, Long Live The King')\n",
        "f.close()\n",
        "f = open('test.txt','r')\n",
        "for i in f:\n",
        "  print(i,end=\" \")\n",
        "f.close()"
      ],
      "metadata": {
        "colab": {
          "base_uri": "https://localhost:8080/"
        },
        "id": "TBWfVvaeNFDe",
        "outputId": "bf911efb-a98c-4178-ae9b-1d22551e1a3c"
      },
      "execution_count": 10,
      "outputs": [
        {
          "output_type": "stream",
          "name": "stdout",
          "text": [
            "The King is Dead, Long Live The King "
          ]
        }
      ]
    },
    {
      "cell_type": "code",
      "source": [
        "dd=\"The King is Dead, Long Live The King\"\n",
        "print(dd)"
      ],
      "metadata": {
        "colab": {
          "base_uri": "https://localhost:8080/"
        },
        "id": "6Fg5F6KSNYKH",
        "outputId": "7e45cb20-2d09-4d51-bee0-2b86866efee1"
      },
      "execution_count": 11,
      "outputs": [
        {
          "output_type": "stream",
          "name": "stdout",
          "text": [
            "The King is Dead, Long Live The King\n"
          ]
        }
      ]
    },
    {
      "cell_type": "code",
      "source": [
        "print(dd[0:1])\n",
        "print(dd[2:5])\n",
        "print(dd[2:])"
      ],
      "metadata": {
        "colab": {
          "base_uri": "https://localhost:8080/"
        },
        "id": "yYYDwMJqNbUE",
        "outputId": "a9edd486-f802-4728-d227-4d3e85f28921"
      },
      "execution_count": 12,
      "outputs": [
        {
          "output_type": "stream",
          "name": "stdout",
          "text": [
            "T\n",
            "e K\n",
            "e King is Dead, Long Live The King\n"
          ]
        }
      ]
    },
    {
      "cell_type": "code",
      "source": [
        "arr = np.array([[1,2,3],[4,5,6]])\n",
        "print(arr)"
      ],
      "metadata": {
        "colab": {
          "base_uri": "https://localhost:8080/"
        },
        "id": "Xx769k3SNeE3",
        "outputId": "a0502fd3-8927-44b0-e80a-36ffd51f0f60"
      },
      "execution_count": 13,
      "outputs": [
        {
          "output_type": "stream",
          "name": "stdout",
          "text": [
            "[[1 2 3]\n",
            " [4 5 6]]\n"
          ]
        }
      ]
    },
    {
      "cell_type": "code",
      "source": [
        "print(arr[1])\n",
        "print(len(arr))"
      ],
      "metadata": {
        "colab": {
          "base_uri": "https://localhost:8080/"
        },
        "id": "_CiCT-_wNhLf",
        "outputId": "73a069eb-ffaa-4d84-dfb5-c97e2733dfd4"
      },
      "execution_count": 14,
      "outputs": [
        {
          "output_type": "stream",
          "name": "stdout",
          "text": [
            "[4 5 6]\n",
            "2\n"
          ]
        }
      ]
    },
    {
      "cell_type": "code",
      "source": [
        "ar=np.array([1,2,3,4,5,6,7,8,9,0])\n",
        "print(ar)\n",
        "ar=ar.reshape(2,5)\n",
        "print(ar)\n",
        ""
      ],
      "metadata": {
        "colab": {
          "base_uri": "https://localhost:8080/"
        },
        "id": "pXwWe_ZENi7p",
        "outputId": "fcb085df-f35c-46c8-e486-822e54b960b0"
      },
      "execution_count": 15,
      "outputs": [
        {
          "output_type": "stream",
          "name": "stdout",
          "text": [
            "[1 2 3 4 5 6 7 8 9 0]\n",
            "[[1 2 3 4 5]\n",
            " [6 7 8 9 0]]\n"
          ]
        }
      ]
    },
    {
      "cell_type": "code",
      "source": [
        "import numpy as np\n",
        "my_list = [1,2,3]\n",
        "arr= np.array(my_list)\n",
        "print(arr)"
      ],
      "metadata": {
        "colab": {
          "base_uri": "https://localhost:8080/"
        },
        "id": "xsk28xbINmeN",
        "outputId": "4e5acbd6-e42d-402e-f3e1-608053b373e4"
      },
      "execution_count": 16,
      "outputs": [
        {
          "output_type": "stream",
          "name": "stdout",
          "text": [
            "[1 2 3]\n"
          ]
        }
      ]
    },
    {
      "cell_type": "code",
      "source": [
        "a=[1,2,3]\n",
        "a=np.full((3),9)\n",
        "print(a)"
      ],
      "metadata": {
        "colab": {
          "base_uri": "https://localhost:8080/"
        },
        "id": "GoIPbdiLNwBh",
        "outputId": "814e1769-22c4-400a-f357-0422b59226ef"
      },
      "execution_count": 18,
      "outputs": [
        {
          "output_type": "stream",
          "name": "stdout",
          "text": [
            "[9 9 9]\n"
          ]
        }
      ]
    },
    {
      "cell_type": "code",
      "source": [
        "a=[2,4,5]\n",
        "print(sum(a))\n"
      ],
      "metadata": {
        "colab": {
          "base_uri": "https://localhost:8080/"
        },
        "id": "fuQTM5MCNx4B",
        "outputId": "1455e3de-17f2-4eb9-c279-1da253712289"
      },
      "execution_count": 19,
      "outputs": [
        {
          "output_type": "stream",
          "name": "stdout",
          "text": [
            "11\n"
          ]
        }
      ]
    },
    {
      "cell_type": "code",
      "source": [
        "a=[77,74,75]\n",
        "prod=1\n",
        "for i in a:\n",
        "  prod*=i\n",
        "print(prod)\n",
        ""
      ],
      "metadata": {
        "colab": {
          "base_uri": "https://localhost:8080/"
        },
        "id": "YDPTELPIN5ge",
        "outputId": "1e211905-b28c-417f-f23b-823a71247b90"
      },
      "execution_count": 20,
      "outputs": [
        {
          "output_type": "stream",
          "name": "stdout",
          "text": [
            "427350\n"
          ]
        }
      ]
    },
    {
      "cell_type": "code",
      "source": [
        "import numpy as np\n",
        "from scipy import stats\n",
        "ttt=np.array([2,1,9,1,2,22,1,1,4,55,6,2,56])\n",
        "print(\"Mean=\",np.mean(ttt))\n",
        "print(\"Median=\",np.median(ttt))\n",
        "print(\"Mode=\",stats.mode(ttt))\n",
        "print(\"Max=\",max(ttt))\n",
        "print(\"Min=\",min(ttt))"
      ],
      "metadata": {
        "colab": {
          "base_uri": "https://localhost:8080/"
        },
        "id": "JnfLvwL1OVRy",
        "outputId": "4517caae-ab2d-4349-ecee-624539097b12"
      },
      "execution_count": 21,
      "outputs": [
        {
          "output_type": "stream",
          "name": "stdout",
          "text": [
            "Mean= 12.461538461538462\n",
            "Median= 2.0\n",
            "Mode= ModeResult(mode=array([1]), count=array([4]))\n",
            "Max= 56\n",
            "Min= 1\n"
          ]
        },
        {
          "output_type": "stream",
          "name": "stderr",
          "text": [
            "<ipython-input-21-e88c675209e8>:6: FutureWarning: Unlike other reduction functions (e.g. `skew`, `kurtosis`), the default behavior of `mode` typically preserves the axis it acts along. In SciPy 1.11.0, this behavior will change: the default value of `keepdims` will become False, the `axis` over which the statistic is taken will be eliminated, and the value None will no longer be accepted. Set `keepdims` to True or False to avoid this warning.\n",
            "  print(\"Mode=\",stats.mode(ttt))\n"
          ]
        }
      ]
    },
    {
      "cell_type": "code",
      "source": [
        "a=[1, 1, 4, 5, 5, 5, 7]\n",
        "a=list(set(a))\n",
        "a.sort()\n",
        "print(a)\n",
        ""
      ],
      "metadata": {
        "colab": {
          "base_uri": "https://localhost:8080/"
        },
        "id": "FN0kxf5vOo_z",
        "outputId": "bda88226-80d4-4255-cd7d-b1c12a715301"
      },
      "execution_count": 22,
      "outputs": [
        {
          "output_type": "stream",
          "name": "stdout",
          "text": [
            "[1, 4, 5, 7]\n"
          ]
        }
      ]
    },
    {
      "cell_type": "code",
      "source": [
        "a=[1,2,3]\n",
        "b=[0,1,1]\n",
        "print(np.dot(a,b))"
      ],
      "metadata": {
        "colab": {
          "base_uri": "https://localhost:8080/"
        },
        "id": "2s5iXTXHOrDD",
        "outputId": "7ecbc90f-573e-4514-c026-70e6f25c4131"
      },
      "execution_count": 23,
      "outputs": [
        {
          "output_type": "stream",
          "name": "stdout",
          "text": [
            "5\n"
          ]
        }
      ]
    },
    {
      "cell_type": "code",
      "source": [
        "a=[[2,-12],[1,-5]]\n",
        "x,y=np.linalg.eig(a)\n",
        "print(x,y)\n",
        ""
      ],
      "metadata": {
        "colab": {
          "base_uri": "https://localhost:8080/"
        },
        "id": "BeJVIh2hOwy3",
        "outputId": "8038236c-deaf-4a9f-a168-50513e3f21a7"
      },
      "execution_count": 25,
      "outputs": [
        {
          "output_type": "stream",
          "name": "stdout",
          "text": [
            "[-1. -2.] [[0.9701425  0.9486833 ]\n",
            " [0.24253563 0.31622777]]\n"
          ]
        }
      ]
    }
  ]
}