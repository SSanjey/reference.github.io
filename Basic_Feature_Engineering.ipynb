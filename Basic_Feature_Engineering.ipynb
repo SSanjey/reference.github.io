{
  "nbformat": 4,
  "nbformat_minor": 0,
  "metadata": {
    "colab": {
      "provenance": [],
      "authorship_tag": "ABX9TyMUgORICbXDuhPpLPnhrY76",
      "include_colab_link": true
    },
    "kernelspec": {
      "name": "python3",
      "display_name": "Python 3"
    },
    "language_info": {
      "name": "python"
    }
  },
  "cells": [
    {
      "cell_type": "markdown",
      "metadata": {
        "id": "view-in-github",
        "colab_type": "text"
      },
      "source": [
        "<a href=\"https://colab.research.google.com/github/SSanjey/ssanjey.github.io/blob/main/Basic_Feature_Engineering.ipynb\" target=\"_parent\"><img src=\"https://colab.research.google.com/assets/colab-badge.svg\" alt=\"Open In Colab\"/></a>"
      ]
    },
    {
      "cell_type": "code",
      "execution_count": 1,
      "metadata": {
        "colab": {
          "base_uri": "https://localhost:8080/"
        },
        "id": "Cflt8RVEJf6c",
        "outputId": "ff4158c3-20ee-4ca3-b421-384d2a5d3ea9"
      },
      "outputs": [
        {
          "output_type": "stream",
          "name": "stdout",
          "text": [
            "   month  day  temperature\n",
            "0      1    1         20.7\n",
            "1      1    2         17.9\n",
            "2      1    3         18.8\n",
            "3      1    4         14.6\n",
            "4      1    5         15.8\n"
          ]
        },
        {
          "output_type": "stream",
          "name": "stderr",
          "text": [
            "<ipython-input-1-6a0fa474dc3a>:3: FutureWarning: The squeeze argument has been deprecated and will be removed in a future version. Append .squeeze(\"columns\") to the call to squeeze.\n",
            "\n",
            "\n",
            "  series=read_csv('/content/daily-min-temperatures.csv', header=0, index_col=0, parse_dates=True, squeeze=True)\n"
          ]
        }
      ],
      "source": [
        "from pandas import read_csv\n",
        "from pandas import DataFrame\n",
        "series=read_csv('/content/daily-min-temperatures.csv', header=0, index_col=0, parse_dates=True, squeeze=True)\n",
        "dataframe=DataFrame()\n",
        "dataframe['month']=[series.index[i].month for i in range(len(series))]\n",
        "dataframe['day']=[series.index[i].day for i in range(len(series))]\n",
        "dataframe['temperature']=[series[i] for i in range(len(series))]\n",
        "print(dataframe.head(5))\n"
      ]
    },
    {
      "cell_type": "code",
      "source": [
        "from pandas import read_csv\n",
        "from pandas import DataFrame\n",
        "from pandas import concat\n",
        "series=read_csv('/content/daily-min-temperatures.csv', header=0,index_col=0,parse_dates=True,squeeze=True)\n",
        "temps = DataFrame(series.values)\n",
        "dataframe=concat([temps.shift(1), temps], axis=1)\n",
        "dataframe.columns=['t','t+1']\n",
        "print(dataframe.head(5))\n"
      ],
      "metadata": {
        "colab": {
          "base_uri": "https://localhost:8080/"
        },
        "id": "na0lz8GdKuXJ",
        "outputId": "a80919ae-7829-49de-8d5c-96896c7a3174"
      },
      "execution_count": 4,
      "outputs": [
        {
          "output_type": "stream",
          "name": "stdout",
          "text": [
            "      t   t+1\n",
            "0   NaN  20.7\n",
            "1  20.7  17.9\n",
            "2  17.9  18.8\n",
            "3  18.8  14.6\n",
            "4  14.6  15.8\n"
          ]
        },
        {
          "output_type": "stream",
          "name": "stderr",
          "text": [
            "<ipython-input-4-786c5e4286e2>:4: FutureWarning: The squeeze argument has been deprecated and will be removed in a future version. Append .squeeze(\"columns\") to the call to squeeze.\n",
            "\n",
            "\n",
            "  series=read_csv('/content/daily-min-temperatures.csv', header=0,index_col=0,parse_dates=True,squeeze=True)\n"
          ]
        }
      ]
    },
    {
      "cell_type": "code",
      "source": [
        "from pandas import read_csv\n",
        "from pandas import DataFrame\n",
        "from pandas import concat\n",
        "series=read_csv('/content/daily-min-temperatures.csv', header=0, index_col=0, parse_dates=True,squeeze=0)\n",
        "temps=DataFrame(series.values)\n",
        "dataframe=concat([temps.shift(3), temps.shift(2), temps.shift(1), temps], axis=1)\n",
        "dataframe.columns=['t-2', 't-1', 't', 't+1']\n",
        "print(dataframe.head(5))\n"
      ],
      "metadata": {
        "colab": {
          "base_uri": "https://localhost:8080/"
        },
        "id": "eSDXAxngLczu",
        "outputId": "bb7f6bf1-f9d5-49b2-d95c-77258e272879"
      },
      "execution_count": 5,
      "outputs": [
        {
          "output_type": "stream",
          "name": "stdout",
          "text": [
            "    t-2   t-1     t   t+1\n",
            "0   NaN   NaN   NaN  20.7\n",
            "1   NaN   NaN  20.7  17.9\n",
            "2   NaN  20.7  17.9  18.8\n",
            "3  20.7  17.9  18.8  14.6\n",
            "4  17.9  18.8  14.6  15.8\n"
          ]
        },
        {
          "output_type": "stream",
          "name": "stderr",
          "text": [
            "<ipython-input-5-3472d04a70eb>:4: FutureWarning: The squeeze argument has been deprecated and will be removed in a future version. Append .squeeze(\"columns\") to the call to squeeze.\n",
            "\n",
            "\n",
            "  series=read_csv('/content/daily-min-temperatures.csv', header=0, index_col=0, parse_dates=True,squeeze=0)\n"
          ]
        }
      ]
    },
    {
      "cell_type": "code",
      "source": [
        "from pandas import read_csv\n",
        "from pandas import DataFrame\n",
        "from pandas import concat\n",
        "series=read_csv('/content/daily-min-temperatures.csv', header=0, index_col=0, parse_dates=True, squeeze=True)\n",
        "temps=DataFrame(series.values)\n",
        "shifted=temps.shift(1)\n",
        "window=shifted.rolling(window=2)\n",
        "means=window.mean()\n",
        "dataframe=concat([means, temps], axis=1)\n",
        "dataframe.columns=['mean(t-1,t)','t+1']\n",
        "print(dataframe.head(5))\n"
      ],
      "metadata": {
        "colab": {
          "base_uri": "https://localhost:8080/"
        },
        "id": "xcVpvt7OMxMq",
        "outputId": "788d47e2-b32d-43d3-e002-5ddeaf87e4e2"
      },
      "execution_count": 6,
      "outputs": [
        {
          "output_type": "stream",
          "name": "stdout",
          "text": [
            "   mean(t-1,t)   t+1\n",
            "0          NaN  20.7\n",
            "1          NaN  17.9\n",
            "2        19.30  18.8\n",
            "3        18.35  14.6\n",
            "4        16.70  15.8\n"
          ]
        },
        {
          "output_type": "stream",
          "name": "stderr",
          "text": [
            "<ipython-input-6-8f885f12d01d>:4: FutureWarning: The squeeze argument has been deprecated and will be removed in a future version. Append .squeeze(\"columns\") to the call to squeeze.\n",
            "\n",
            "\n",
            "  series=read_csv('/content/daily-min-temperatures.csv', header=0, index_col=0, parse_dates=True, squeeze=True)\n"
          ]
        }
      ]
    },
    {
      "cell_type": "code",
      "source": [
        "from pandas import read_csv\n",
        "from pandas import DataFrame\n",
        "from pandas import concat\n",
        "series=read_csv('/content/daily-min-temperatures.csv', header=0, index_col=0, parse_dates=True,squeeze=True)\n",
        "temps=DataFrame(series.values)\n",
        "width=3\n",
        "shifted=temps.shift(width-1)\n",
        "window=shifted.rolling(window=width)\n",
        "dataframe=concat([window.min(), window.mean(), window.max(), temps], axis=1)\n",
        "dataframe.columns=['min','mean','max','t+1']\n",
        "print(dataframe.head(5))\n"
      ],
      "metadata": {
        "colab": {
          "base_uri": "https://localhost:8080/"
        },
        "id": "iZWvK5HrNwCI",
        "outputId": "48c55e44-34dd-4cd6-9f2a-cc52c45c91c5"
      },
      "execution_count": 7,
      "outputs": [
        {
          "output_type": "stream",
          "name": "stdout",
          "text": [
            "    min       mean   max   t+1\n",
            "0   NaN        NaN   NaN  20.7\n",
            "1   NaN        NaN   NaN  17.9\n",
            "2   NaN        NaN   NaN  18.8\n",
            "3   NaN        NaN   NaN  14.6\n",
            "4  17.9  19.133333  20.7  15.8\n"
          ]
        },
        {
          "output_type": "stream",
          "name": "stderr",
          "text": [
            "<ipython-input-7-00c1f2ae90f4>:4: FutureWarning: The squeeze argument has been deprecated and will be removed in a future version. Append .squeeze(\"columns\") to the call to squeeze.\n",
            "\n",
            "\n",
            "  series=read_csv('/content/daily-min-temperatures.csv', header=0, index_col=0, parse_dates=True,squeeze=True)\n"
          ]
        }
      ]
    },
    {
      "cell_type": "code",
      "source": [
        "from pandas import read_csv\n",
        "from pandas import DataFrame\n",
        "from pandas import concat\n",
        "series=read_csv('/content/daily-min-temperatures.csv', header=0,index_col=0,parse_dates=True,squeeze=True)\n",
        "temps=DataFrame(series.values)\n",
        "window=temps.expanding()\n",
        "dataframe=concat([window.min(),window.mean(),window.max(), temps.shift(-1)], axis=1)\n",
        "dataframe.columns=['min','mean','max','t+1']\n",
        "print(dataframe.head(5))\n"
      ],
      "metadata": {
        "colab": {
          "base_uri": "https://localhost:8080/"
        },
        "id": "eX96ScVWPKgD",
        "outputId": "7be6f90e-fb13-49f6-cd32-9573114195b5"
      },
      "execution_count": 8,
      "outputs": [
        {
          "output_type": "stream",
          "name": "stdout",
          "text": [
            "    min       mean   max   t+1\n",
            "0  20.7  20.700000  20.7  17.9\n",
            "1  17.9  19.300000  20.7  18.8\n",
            "2  17.9  19.133333  20.7  14.6\n",
            "3  14.6  18.000000  20.7  15.8\n",
            "4  14.6  17.560000  20.7  15.8\n"
          ]
        },
        {
          "output_type": "stream",
          "name": "stderr",
          "text": [
            "<ipython-input-8-d524afc6a030>:4: FutureWarning: The squeeze argument has been deprecated and will be removed in a future version. Append .squeeze(\"columns\") to the call to squeeze.\n",
            "\n",
            "\n",
            "  series=read_csv('/content/daily-min-temperatures.csv', header=0,index_col=0,parse_dates=True,squeeze=True)\n"
          ]
        }
      ]
    },
    {
      "cell_type": "code",
      "source": [],
      "metadata": {
        "id": "hX_Ye0eaQIc0"
      },
      "execution_count": null,
      "outputs": []
    }
  ]
}