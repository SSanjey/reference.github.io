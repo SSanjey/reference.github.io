{
  "nbformat": 4,
  "nbformat_minor": 0,
  "metadata": {
    "colab": {
      "provenance": [],
      "authorship_tag": "ABX9TyPpZjtLgq2JIXXQhiX3745r",
      "include_colab_link": true
    },
    "kernelspec": {
      "name": "python3",
      "display_name": "Python 3"
    },
    "language_info": {
      "name": "python"
    }
  },
  "cells": [
    {
      "cell_type": "markdown",
      "metadata": {
        "id": "view-in-github",
        "colab_type": "text"
      },
      "source": [
        "<a href=\"https://colab.research.google.com/github/SSanjey/ssanjey.github.io/blob/main/TS_8_11_2023.ipynb\" target=\"_parent\"><img src=\"https://colab.research.google.com/assets/colab-badge.svg\" alt=\"Open In Colab\"/></a>"
      ]
    },
    {
      "cell_type": "code",
      "execution_count": 15,
      "metadata": {
        "colab": {
          "base_uri": "https://localhost:8080/"
        },
        "id": "USukVXotDSTK",
        "outputId": "a36852b7-3f95-4d0c-afc6-8275a4e9b68e"
      },
      "outputs": [
        {
          "output_type": "stream",
          "name": "stdout",
          "text": [
            "<class 'pandas.core.series.Series'>\n",
            "Date\n",
            "1959-01-01    35\n",
            "1959-01-02    32\n",
            "1959-01-03    30\n",
            "1959-01-04    31\n",
            "1959-01-05    44\n",
            "Name: Births, dtype: int64\n"
          ]
        },
        {
          "output_type": "stream",
          "name": "stderr",
          "text": [
            "<ipython-input-15-d2e472ca1b29>:2: FutureWarning: The squeeze argument has been deprecated and will be removed in a future version. Append .squeeze(\"columns\") to the call to squeeze.\n",
            "\n",
            "\n",
            "  series = read_csv(\"/daily-total-female-births-f.csv\",header=0, index_col=0, parse_dates=True, squeeze=True)\n"
          ]
        }
      ],
      "source": [
        "from pandas import read_csv\n",
        "series = read_csv(\"/daily-total-female-births-f.csv\",header=0, index_col=0, parse_dates=True, squeeze=True)\n",
        "print(type(series))\n",
        "print(series.head())"
      ]
    },
    {
      "cell_type": "code",
      "source": [
        "from pandas import read_csv\n",
        "series = read_csv('/daily-total-female-births-f.csv',header=0, index_col=0, parse_dates=True, squeeze=True)\n",
        "print(series.head(10))\n"
      ],
      "metadata": {
        "colab": {
          "base_uri": "https://localhost:8080/"
        },
        "id": "6GENrF2dHUyM",
        "outputId": "92d8746c-651b-4f76-e189-b8cc9325dc7c"
      },
      "execution_count": 19,
      "outputs": [
        {
          "output_type": "stream",
          "name": "stdout",
          "text": [
            "Date\n",
            "1959-01-01    35\n",
            "1959-01-02    32\n",
            "1959-01-03    30\n",
            "1959-01-04    31\n",
            "1959-01-05    44\n",
            "1959-01-06    29\n",
            "1959-01-07    45\n",
            "1959-01-08    43\n",
            "1959-01-09    38\n",
            "1959-01-10    27\n",
            "Name: Births, dtype: int64\n"
          ]
        },
        {
          "output_type": "stream",
          "name": "stderr",
          "text": [
            "<ipython-input-19-60f943616460>:2: FutureWarning: The squeeze argument has been deprecated and will be removed in a future version. Append .squeeze(\"columns\") to the call to squeeze.\n",
            "\n",
            "\n",
            "  series = read_csv('/daily-total-female-births-f.csv',header=0, index_col=0, parse_dates=True, squeeze=True)\n"
          ]
        }
      ]
    },
    {
      "cell_type": "code",
      "source": [
        "from pandas import read_csv\n",
        "series = read_csv('/daily-total-female-births-f.csv', header=0, index_col=0, parse_dates=True, squeeze=True)\n",
        "print(series.size)"
      ],
      "metadata": {
        "colab": {
          "base_uri": "https://localhost:8080/"
        },
        "id": "_Ey2923FHWJz",
        "outputId": "61de18f8-5c69-4c01-8b16-6090f7e27de4"
      },
      "execution_count": 20,
      "outputs": [
        {
          "output_type": "stream",
          "name": "stdout",
          "text": [
            "365\n"
          ]
        },
        {
          "output_type": "stream",
          "name": "stderr",
          "text": [
            "<ipython-input-20-a3f05dcfbfec>:2: FutureWarning: The squeeze argument has been deprecated and will be removed in a future version. Append .squeeze(\"columns\") to the call to squeeze.\n",
            "\n",
            "\n",
            "  series = read_csv('/daily-total-female-births-f.csv', header=0, index_col=0, parse_dates=True, squeeze=True)\n"
          ]
        }
      ]
    },
    {
      "cell_type": "code",
      "source": [
        "from pandas import read_csv\n",
        "series = read_csv('/daily-total-female-births-f.csv',header=0, index_col=0, parse_dates=True, squeeze=True)\n",
        "print(series['1959-01'])\n"
      ],
      "metadata": {
        "colab": {
          "base_uri": "https://localhost:8080/"
        },
        "id": "Km8O5es8Io5J",
        "outputId": "8f4b7989-4626-4e29-b28f-7bd11214f902"
      },
      "execution_count": 26,
      "outputs": [
        {
          "output_type": "stream",
          "name": "stdout",
          "text": [
            "Date\n",
            "1959-01-01    35\n",
            "1959-01-02    32\n",
            "1959-01-03    30\n",
            "1959-01-04    31\n",
            "1959-01-05    44\n",
            "1959-01-06    29\n",
            "1959-01-07    45\n",
            "1959-01-08    43\n",
            "1959-01-09    38\n",
            "1959-01-10    27\n",
            "1959-01-11    38\n",
            "1959-01-12    33\n",
            "1959-01-13    55\n",
            "1959-01-14    47\n",
            "1959-01-15    45\n",
            "1959-01-16    37\n",
            "1959-01-17    50\n",
            "1959-01-18    43\n",
            "1959-01-19    41\n",
            "1959-01-20    52\n",
            "1959-01-21    34\n",
            "1959-01-22    53\n",
            "1959-01-23    39\n",
            "1959-01-24    32\n",
            "1959-01-25    37\n",
            "1959-01-26    43\n",
            "1959-01-27    39\n",
            "1959-01-28    35\n",
            "1959-01-29    44\n",
            "1959-01-30    38\n",
            "1959-01-31    24\n",
            "Name: Births, dtype: int64\n"
          ]
        },
        {
          "output_type": "stream",
          "name": "stderr",
          "text": [
            "<ipython-input-26-f447f4f612a3>:2: FutureWarning: The squeeze argument has been deprecated and will be removed in a future version. Append .squeeze(\"columns\") to the call to squeeze.\n",
            "\n",
            "\n",
            "  series = read_csv('/daily-total-female-births-f.csv',header=0, index_col=0, parse_dates=True, squeeze=True)\n"
          ]
        }
      ]
    },
    {
      "cell_type": "code",
      "source": [
        "from pandas import read_csv\n",
        "series = read_csv('/daily-total-female-births-f.csv', header=0, index_col=0, parse_dates=True, squeeze=True)\n",
        "print(series.describe())"
      ],
      "metadata": {
        "colab": {
          "base_uri": "https://localhost:8080/"
        },
        "id": "oL2krRruJHpq",
        "outputId": "6d0b2561-b425-4181-a743-06033e8e5786"
      },
      "execution_count": 27,
      "outputs": [
        {
          "output_type": "stream",
          "name": "stdout",
          "text": [
            "count    365.000000\n",
            "mean      41.980822\n",
            "std        7.348257\n",
            "min       23.000000\n",
            "25%       37.000000\n",
            "50%       42.000000\n",
            "75%       46.000000\n",
            "max       73.000000\n",
            "Name: Births, dtype: float64\n"
          ]
        },
        {
          "output_type": "stream",
          "name": "stderr",
          "text": [
            "<ipython-input-27-e331300e2963>:2: FutureWarning: The squeeze argument has been deprecated and will be removed in a future version. Append .squeeze(\"columns\") to the call to squeeze.\n",
            "\n",
            "\n",
            "  series = read_csv('/daily-total-female-births-f.csv', header=0, index_col=0, parse_dates=True, squeeze=True)\n"
          ]
        }
      ]
    }
  ]
}