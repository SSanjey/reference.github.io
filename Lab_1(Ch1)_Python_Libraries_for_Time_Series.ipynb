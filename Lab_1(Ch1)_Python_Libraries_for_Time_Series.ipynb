{
  "nbformat": 4,
  "nbformat_minor": 0,
  "metadata": {
    "colab": {
      "provenance": [],
      "toc_visible": true,
      "authorship_tag": "ABX9TyNcEMod0bZIseBxXSZTWTUw",
      "include_colab_link": true
    },
    "kernelspec": {
      "name": "python3",
      "display_name": "Python 3"
    },
    "language_info": {
      "name": "python"
    }
  },
  "cells": [
    {
      "cell_type": "markdown",
      "metadata": {
        "id": "view-in-github",
        "colab_type": "text"
      },
      "source": [
        "<a href=\"https://colab.research.google.com/github/SSanjey/ssanjey.github.io/blob/main/Lab_1(Ch1)_Python_Libraries_for_Time_Series.ipynb\" target=\"_parent\"><img src=\"https://colab.research.google.com/assets/colab-badge.svg\" alt=\"Open In Colab\"/></a>"
      ]
    },
    {
      "cell_type": "code",
      "execution_count": 1,
      "metadata": {
        "colab": {
          "base_uri": "https://localhost:8080/"
        },
        "id": "vZlZYeA9Ww56",
        "outputId": "855ad7f7-7820-4b58-be51-a0155953f710"
      },
      "outputs": [
        {
          "output_type": "stream",
          "name": "stdout",
          "text": [
            "<class 'pandas.core.series.Series'>\n",
            "Date\n",
            "1959-01-01    35\n",
            "1959-01-02    32\n",
            "1959-01-03    30\n",
            "1959-01-04    31\n",
            "1959-01-05    44\n",
            "Name: Births, dtype: int64\n"
          ]
        },
        {
          "output_type": "stream",
          "name": "stderr",
          "text": [
            "<ipython-input-1-6b6894c09ead>:2: FutureWarning: The squeeze argument has been deprecated and will be removed in a future version. Append .squeeze(\"columns\") to the call to squeeze.\n",
            "\n",
            "\n",
            "  series = read_csv('/content/daily-total-female-births.csv', header=0, index_col=0, parse_dates=True,\n"
          ]
        }
      ],
      "source": [
        "from pandas import read_csv\n",
        "series = read_csv('/content/daily-total-female-births.csv', header=0, index_col=0, parse_dates=True,\n",
        "squeeze=True)\n",
        "print(type(series))\n",
        "print(series.head())\n"
      ]
    },
    {
      "cell_type": "code",
      "source": [
        "from pandas import read_csv\n",
        "series = read_csv('/content/daily-total-female-births.csv',header=0, index_col=0, parse_dates=True, squeeze=True)\n",
        "print(series.head(10))"
      ],
      "metadata": {
        "colab": {
          "base_uri": "https://localhost:8080/"
        },
        "id": "KIOzul4veM7E",
        "outputId": "a8d81d2c-822a-4d14-ea69-d366cebe75a3"
      },
      "execution_count": 2,
      "outputs": [
        {
          "output_type": "stream",
          "name": "stdout",
          "text": [
            "Date\n",
            "1959-01-01    35\n",
            "1959-01-02    32\n",
            "1959-01-03    30\n",
            "1959-01-04    31\n",
            "1959-01-05    44\n",
            "1959-01-06    29\n",
            "1959-01-07    45\n",
            "1959-01-08    43\n",
            "1959-01-09    38\n",
            "1959-01-10    27\n",
            "Name: Births, dtype: int64\n"
          ]
        },
        {
          "output_type": "stream",
          "name": "stderr",
          "text": [
            "<ipython-input-2-221d8cd83313>:2: FutureWarning: The squeeze argument has been deprecated and will be removed in a future version. Append .squeeze(\"columns\") to the call to squeeze.\n",
            "\n",
            "\n",
            "  series = read_csv('/content/daily-total-female-births.csv',header=0, index_col=0, parse_dates=True, squeeze=True)\n"
          ]
        }
      ]
    },
    {
      "cell_type": "code",
      "source": [
        "from pandas import read_csv\n",
        "series = read_csv('/content/daily-total-female-births.csv', header=0, index_col=0, parse_dates=True, squeeze=True)\n",
        "print(series.size)"
      ],
      "metadata": {
        "colab": {
          "base_uri": "https://localhost:8080/"
        },
        "id": "S3cTFit9erlN",
        "outputId": "0b56e1c7-5494-4004-b304-f19bb1dd2bd2"
      },
      "execution_count": 3,
      "outputs": [
        {
          "output_type": "stream",
          "name": "stdout",
          "text": [
            "365\n"
          ]
        },
        {
          "output_type": "stream",
          "name": "stderr",
          "text": [
            "<ipython-input-3-5afe0bbdc1bd>:2: FutureWarning: The squeeze argument has been deprecated and will be removed in a future version. Append .squeeze(\"columns\") to the call to squeeze.\n",
            "\n",
            "\n",
            "  series = read_csv('/content/daily-total-female-births.csv', header=0, index_col=0, parse_dates=True, squeeze=True)\n"
          ]
        }
      ]
    },
    {
      "cell_type": "code",
      "source": [
        "from pandas import read_csv\n",
        "series = read_csv('/content/daily-total-female-births.csv', header=0, index_col=0, parse_dates=True, squeeze=True)\n",
        "print(series['1959-01'])"
      ],
      "metadata": {
        "colab": {
          "base_uri": "https://localhost:8080/"
        },
        "id": "Ho0HI__QfFO8",
        "outputId": "b47a3a26-1a72-4d0a-842a-4e336bf0fbeb"
      },
      "execution_count": 4,
      "outputs": [
        {
          "output_type": "stream",
          "name": "stdout",
          "text": [
            "Date\n",
            "1959-01-01    35\n",
            "1959-01-02    32\n",
            "1959-01-03    30\n",
            "1959-01-04    31\n",
            "1959-01-05    44\n",
            "1959-01-06    29\n",
            "1959-01-07    45\n",
            "1959-01-08    43\n",
            "1959-01-09    38\n",
            "1959-01-10    27\n",
            "1959-01-11    38\n",
            "1959-01-12    33\n",
            "1959-01-13    55\n",
            "1959-01-14    47\n",
            "1959-01-15    45\n",
            "1959-01-16    37\n",
            "1959-01-17    50\n",
            "1959-01-18    43\n",
            "1959-01-19    41\n",
            "1959-01-20    52\n",
            "1959-01-21    34\n",
            "1959-01-22    53\n",
            "1959-01-23    39\n",
            "1959-01-24    32\n",
            "1959-01-25    37\n",
            "1959-01-26    43\n",
            "1959-01-27    39\n",
            "1959-01-28    35\n",
            "1959-01-29    44\n",
            "1959-01-30    38\n",
            "1959-01-31    24\n",
            "Name: Births, dtype: int64\n"
          ]
        },
        {
          "output_type": "stream",
          "name": "stderr",
          "text": [
            "<ipython-input-4-bb1974160036>:2: FutureWarning: The squeeze argument has been deprecated and will be removed in a future version. Append .squeeze(\"columns\") to the call to squeeze.\n",
            "\n",
            "\n",
            "  series = read_csv('/content/daily-total-female-births.csv', header=0, index_col=0, parse_dates=True, squeeze=True)\n"
          ]
        }
      ]
    },
    {
      "cell_type": "code",
      "source": [
        "from pandas import read_csv\n",
        "series = read_csv('/content/daily-total-female-births.csv', header=0, index_col=0, parse_dates=True, squeeze=True)\n",
        "print(series.describe())\n"
      ],
      "metadata": {
        "colab": {
          "base_uri": "https://localhost:8080/"
        },
        "id": "P0JIvYPvfZm2",
        "outputId": "1e0a7512-5693-4f7d-f9a9-ba7df4a53862"
      },
      "execution_count": 5,
      "outputs": [
        {
          "output_type": "stream",
          "name": "stdout",
          "text": [
            "count    365.000000\n",
            "mean      41.980822\n",
            "std        7.348257\n",
            "min       23.000000\n",
            "25%       37.000000\n",
            "50%       42.000000\n",
            "75%       46.000000\n",
            "max       73.000000\n",
            "Name: Births, dtype: float64\n"
          ]
        },
        {
          "output_type": "stream",
          "name": "stderr",
          "text": [
            "<ipython-input-5-1b2e19b07de5>:2: FutureWarning: The squeeze argument has been deprecated and will be removed in a future version. Append .squeeze(\"columns\") to the call to squeeze.\n",
            "\n",
            "\n",
            "  series = read_csv('/content/daily-total-female-births.csv', header=0, index_col=0, parse_dates=True, squeeze=True)\n"
          ]
        }
      ]
    },
    {
      "cell_type": "code",
      "source": [],
      "metadata": {
        "id": "GRf1N7jwf2g3"
      },
      "execution_count": null,
      "outputs": []
    }
  ]
}